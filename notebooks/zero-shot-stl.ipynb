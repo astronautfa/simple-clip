{
 "cells": [
  {
   "cell_type": "code",
   "execution_count": 1,
   "id": "1d05ceca",
   "metadata": {
    "scrolled": true
   },
   "outputs": [],
   "source": [
    "import sys\n",
    "sys.path.append(\"../\")\n",
    "\n",
    "from PIL import Image\n",
    "\n",
    "import torch\n",
    "import torchvision\n",
    "from torchvision import models, transforms\n",
    "from torch.utils.data import DataLoader, Dataset\n",
    "\n",
    "from simple_clip import CLIP\n",
    "from simple_clip.utils import accuracy, get_image_encoder, get_text_encoder\n",
    "from simple_clip.custom_datasets.clip_datasets import get_image_tranforms"
   ]
  },
  {
   "cell_type": "code",
   "execution_count": 2,
   "id": "ea87b9e4",
   "metadata": {},
   "outputs": [],
   "source": [
    "device = torch.device(\"cuda\" if torch.cuda.is_available() else \"cpu\")"
   ]
  },
  {
   "cell_type": "code",
   "execution_count": 3,
   "id": "ec7dccba",
   "metadata": {},
   "outputs": [
    {
     "name": "stdout",
     "output_type": "stream",
     "text": [
      "Files already downloaded and verified\n",
      "Files already downloaded and verified\n"
     ]
    }
   ],
   "source": [
    "IMAGE_SIZE = 224\n",
    "transform = get_image_tranforms(image_size=(IMAGE_SIZE, IMAGE_SIZE))\n",
    "\n",
    "train_ds = torchvision.datasets.STL10(\"../data\",\n",
    "                                  split='train',\n",
    "                                  transform=transform,\n",
    "                                  download=True)\n",
    "val_ds = torchvision.datasets.STL10(\"../data\",\n",
    "                                  split='test',\n",
    "                                  transform=transform,\n",
    "                                  download=True)\n",
    "\n",
    "train_loader = DataLoader(train_ds,\n",
    "                          batch_size=256,\n",
    "                          num_workers=4)\n",
    "val_loader = DataLoader(val_ds,\n",
    "                       batch_size=256,\n",
    "                       num_workers=4)"
   ]
  },
  {
   "cell_type": "code",
   "execution_count": 4,
   "id": "ae1f6063-60c2-422d-96bf-9028a08fe591",
   "metadata": {},
   "outputs": [],
   "source": [
    "STL_LABELS = [\"airplane\", \"bird\", \"car\", \"cat\", \"deer\", \"dog\", \"horse\", \"monkey\", \"ship\", \"truck\"]\n",
    "\n",
    "texts = [f\"a photo of a {l}\" for l in STL_LABELS]"
   ]
  },
  {
   "cell_type": "code",
   "execution_count": 5,
   "id": "a900a33e",
   "metadata": {},
   "outputs": [
    {
     "data": {
      "text/plain": [
       "(5000, 8000)"
      ]
     },
     "execution_count": 5,
     "metadata": {},
     "output_type": "execute_result"
    }
   ],
   "source": [
    "len(train_ds), len(val_ds)"
   ]
  },
  {
   "cell_type": "code",
   "execution_count": 6,
   "id": "a402d632",
   "metadata": {
    "scrolled": true
   },
   "outputs": [],
   "source": [
    "image_encoder = get_image_encoder(\"resnet50\")\n",
    "text_encoder = get_text_encoder(\"distilbert-base-uncased\")\n",
    "model = CLIP(image_encoder, text_encoder)\n",
    "\n",
    "ckpt = torch.load(\"../models/clip_model_best.pth\")\n",
    "\n",
    "model.load_state_dict(ckpt)\n",
    "model = model.eval().to(device)"
   ]
  },
  {
   "cell_type": "code",
   "execution_count": 7,
   "id": "cda08697",
   "metadata": {
    "scrolled": true
   },
   "outputs": [],
   "source": [
    "from tqdm.auto import tqdm\n",
    "import numpy as np\n",
    "\n",
    "def get_embs_labels(dl):\n",
    "    idx = 0\n",
    "    embs, labels = [], []\n",
    "    for idx, (images, targets) in enumerate(tqdm(dl)):\n",
    "        with torch.no_grad():\n",
    "            images = images.to(device)\n",
    "            out = model.extract_image_features(images)\n",
    "            features = out.cpu().detach().tolist()\n",
    "            embs.extend(features)\n",
    "            labels.extend(targets.cpu().detach().tolist())\n",
    "    return torch.tensor(embs).to(device), torch.tensor(labels).to(device)"
   ]
  },
  {
   "cell_type": "code",
   "execution_count": 8,
   "id": "e4788ba1",
   "metadata": {
    "scrolled": true
   },
   "outputs": [
    {
     "data": {
      "application/vnd.jupyter.widget-view+json": {
       "model_id": "5b0dcfb30862471488f692a440365098",
       "version_major": 2,
       "version_minor": 0
      },
      "text/plain": [
       "  0%|          | 0/20 [00:00<?, ?it/s]"
      ]
     },
     "metadata": {},
     "output_type": "display_data"
    },
    {
     "data": {
      "application/vnd.jupyter.widget-view+json": {
       "model_id": "4a15ec0093f7451b89ff637d98098de1",
       "version_major": 2,
       "version_minor": 0
      },
      "text/plain": [
       "  0%|          | 0/32 [00:00<?, ?it/s]"
      ]
     },
     "metadata": {},
     "output_type": "display_data"
    }
   ],
   "source": [
    "image_features, labels = get_embs_labels(train_loader)\n",
    "image_features_val, labels_val = get_embs_labels(val_loader)"
   ]
  },
  {
   "cell_type": "code",
   "execution_count": 9,
   "id": "61140b47-4bbf-4da8-8d6a-3299c8cc4891",
   "metadata": {},
   "outputs": [
    {
     "name": "stdout",
     "output_type": "stream",
     "text": [
      "torch.Size([5000, 768])\n",
      "torch.Size([5000])\n",
      "torch.Size([8000, 768])\n",
      "torch.Size([8000])\n"
     ]
    }
   ],
   "source": [
    "print(image_features.shape)\n",
    "print(labels.shape)\n",
    "print(image_features_val.shape)\n",
    "print(labels_val.shape)"
   ]
  },
  {
   "cell_type": "code",
   "execution_count": 10,
   "id": "ba4b6def-86ce-4d24-847a-a9fc36140ab6",
   "metadata": {},
   "outputs": [],
   "source": [
    "from transformers import DistilBertTokenizer\n",
    "\n",
    "tokenizer = DistilBertTokenizer.from_pretrained(\"distilbert-base-uncased\")\n",
    "\n",
    "encoded_texts = tokenizer(texts, padding=True, truncation=True, max_length=256)\n",
    "input_ids = torch.tensor(encoded_texts[\"input_ids\"]).to(device)\n",
    "attention_mask = torch.tensor(encoded_texts[\"attention_mask\"]).to(device)\n",
    "text_features = model.extract_text_features(input_ids, attention_mask)"
   ]
  },
  {
   "cell_type": "code",
   "execution_count": 11,
   "id": "65ad5aed-c0d5-400b-a936-3cc641c29d82",
   "metadata": {},
   "outputs": [],
   "source": [
    "preds_train = image_features @ text_features.t()\n",
    "preds_val = image_features_val @ text_features.t()"
   ]
  },
  {
   "cell_type": "markdown",
   "id": "b2e79aa7-fcfa-4bf5-8ed7-3d3b818da188",
   "metadata": {},
   "source": [
    "### Resnet 50"
   ]
  },
  {
   "cell_type": "code",
   "execution_count": 14,
   "id": "e1cac080-3d5c-43e9-a06f-6a0e624c7248",
   "metadata": {},
   "outputs": [
    {
     "name": "stdout",
     "output_type": "stream",
     "text": [
      "Accuracy:  0.9375\n",
      "Confusion matrix: \n",
      " [[735   5   2   0   0   0   0   0  51   7]\n",
      " [  0 778   0  10   1   2   0   8   1   0]\n",
      " [  1   0 776   0   0   0   0   0   0  23]\n",
      " [  0   2   0 641 100  32   1  24   0   0]\n",
      " [  0   8   0   1 741  14  22  12   0   2]\n",
      " [  0   3   0  50   4 728   9   6   0   0]\n",
      " [  0   0   3   3   9  15 761   5   0   4]\n",
      " [  0  10   0  11   7  16   0 756   0   0]\n",
      " [  1   0   0   0   0   0   0   0 791   8]\n",
      " [  1   0   5   0   0   0   0   0   1 793]]\n",
      "Classification report: \n",
      "               precision    recall  f1-score   support\n",
      "\n",
      "    airplane       1.00      0.92      0.96       800\n",
      "        bird       0.97      0.97      0.97       800\n",
      "         car       0.99      0.97      0.98       800\n",
      "         cat       0.90      0.80      0.85       800\n",
      "        deer       0.86      0.93      0.89       800\n",
      "         dog       0.90      0.91      0.91       800\n",
      "       horse       0.96      0.95      0.96       800\n",
      "      monkey       0.93      0.94      0.94       800\n",
      "        ship       0.94      0.99      0.96       800\n",
      "       truck       0.95      0.99      0.97       800\n",
      "\n",
      "    accuracy                           0.94      8000\n",
      "   macro avg       0.94      0.94      0.94      8000\n",
      "weighted avg       0.94      0.94      0.94      8000\n",
      "\n",
      "Classification report train: \n",
      "               precision    recall  f1-score   support\n",
      "\n",
      "    airplane       1.00      0.92      0.96       500\n",
      "        bird       0.98      0.99      0.98       500\n",
      "         car       0.99      0.96      0.97       500\n",
      "         cat       0.90      0.81      0.86       500\n",
      "        deer       0.85      0.94      0.89       500\n",
      "         dog       0.93      0.92      0.92       500\n",
      "       horse       0.97      0.94      0.95       500\n",
      "      monkey       0.94      0.95      0.94       500\n",
      "        ship       0.94      0.99      0.96       500\n",
      "       truck       0.94      0.99      0.97       500\n",
      "\n",
      "    accuracy                           0.94      5000\n",
      "   macro avg       0.94      0.94      0.94      5000\n",
      "weighted avg       0.94      0.94      0.94      5000\n",
      "\n"
     ]
    }
   ],
   "source": [
    "from sklearn.metrics import accuracy_score, confusion_matrix, classification_report\n",
    " \n",
    "y_train, y_test = labels.cpu().detach().tolist(), labels_val.cpu().detach().tolist()\n",
    " \n",
    "y_pred = preds_val.argmax(dim=-1).cpu().detach().tolist()\n",
    " \n",
    "acc = accuracy_score(y_test, y_pred)\n",
    "conf_matrix = confusion_matrix(y_test, y_pred)\n",
    "class_report = classification_report(y_test, y_pred, target_names=STL_LABELS)\n",
    " \n",
    "print(\"Accuracy: \", acc)\n",
    "print(\"Confusion matrix: \\n\", conf_matrix)\n",
    "print(\"Classification report: \\n\", class_report)\n",
    " \n",
    "y_pred_train = preds_train.argmax(dim=-1).cpu().detach().tolist()\n",
    "class_report = classification_report(y_train, y_pred_train, target_names=STL_LABELS)\n",
    "print(\"Classification report train: \\n\", class_report)"
   ]
  },
  {
   "cell_type": "code",
   "execution_count": null,
   "id": "cacddcdf-42ff-4769-96c9-8057092abc83",
   "metadata": {},
   "outputs": [],
   "source": []
  }
 ],
 "metadata": {
  "kernelspec": {
   "display_name": "Python 3 (ipykernel)",
   "language": "python",
   "name": "python3"
  },
  "language_info": {
   "codemirror_mode": {
    "name": "ipython",
    "version": 3
   },
   "file_extension": ".py",
   "mimetype": "text/x-python",
   "name": "python",
   "nbconvert_exporter": "python",
   "pygments_lexer": "ipython3",
   "version": "3.10.13"
  }
 },
 "nbformat": 4,
 "nbformat_minor": 5
}
